{
 "cells": [
  {
   "cell_type": "markdown",
   "metadata": {},
   "source": [
    "This package uses the [Twitter POST api](https://dev.twitter.com/rest/reference/post/statuses/update) in order to schedule / send a series of threaded tweets that refer to one another so that they form a \"chain\".\n",
    "\n",
    "Here's an example of how to use it:"
   ]
  },
  {
   "cell_type": "code",
   "execution_count": 1,
   "metadata": {},
   "outputs": [],
   "source": [
    "from TwitterAPI import TwitterAPI\n",
    "from threader import Threader\n",
    "import os"
   ]
  },
  {
   "cell_type": "code",
   "execution_count": 2,
   "metadata": {},
   "outputs": [],
   "source": [
    "keys = dict(consumer_key=os.environ['TWITTER_KEY_HLDGRF'],\n",
    "            consumer_secret=os.environ['TWITTER_SECRET_HLDGRF'],\n",
    "            access_token_key=os.environ['TWITTER_ACCESS_TOKEN_HLDGRF'],\n",
    "            access_token_secret=os.environ['TWITTER_AT_SECRET_HLDGRF'])\n",
    "api = TwitterAPI(**keys)"
   ]
  },
  {
   "cell_type": "code",
   "execution_count": 3,
   "metadata": {},
   "outputs": [
    {
     "data": {
      "text/plain": [
       "Threader\n",
       "Tweets: ['OK this should work now', 'does it work?! is it threaded?!', 'maybe........', 'fingers crossed!']"
      ]
     },
     "execution_count": 3,
     "metadata": {},
     "output_type": "execute_result"
    }
   ],
   "source": [
    "username = None\n",
    "tweets = [\"OK this should work now\", \"does it work?! is it threaded?!\", \"maybe........\", \"fingers crossed!\"]\n",
    "th = Threader(tweets, api, user=username)\n",
    "th"
   ]
  },
  {
   "cell_type": "code",
   "execution_count": null,
   "metadata": {
    "collapsed": true
   },
   "outputs": [],
   "source": [
    "th.send_tweets()"
   ]
  }
 ],
 "metadata": {
  "kernelspec": {
   "display_name": "Python 3",
   "language": "python",
   "name": "python3"
  },
  "language_info": {
   "codemirror_mode": {
    "name": "ipython",
    "version": 3
   },
   "file_extension": ".py",
   "mimetype": "text/x-python",
   "name": "python",
   "nbconvert_exporter": "python",
   "pygments_lexer": "ipython3",
   "version": "3.6.1"
  }
 },
 "nbformat": 4,
 "nbformat_minor": 2
}
